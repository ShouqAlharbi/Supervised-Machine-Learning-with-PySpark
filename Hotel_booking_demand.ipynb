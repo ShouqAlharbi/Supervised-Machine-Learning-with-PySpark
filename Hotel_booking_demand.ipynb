{
  "nbformat": 4,
  "nbformat_minor": 0,
  "metadata": {
    "colab": {
      "provenance": []
    },
    "kernelspec": {
      "name": "python3",
      "display_name": "Python 3"
    },
    "language_info": {
      "name": "python"
    }
  },
  "cells": [
    {
      "cell_type": "markdown",
      "source": [
        "# Supervised Machine Learning with PySpark"
      ],
      "metadata": {
        "id": "L_5-lpcZvrVc"
      }
    },
    {
      "cell_type": "code",
      "source": [
        "pip install pyspark"
      ],
      "metadata": {
        "colab": {
          "base_uri": "https://localhost:8080/"
        },
        "id": "u8uhlC0jNXBQ",
        "outputId": "4adc8eb8-fae6-47c0-c999-e0fe35e9ef78"
      },
      "execution_count": 6,
      "outputs": [
        {
          "output_type": "stream",
          "name": "stdout",
          "text": [
            "Looking in indexes: https://pypi.org/simple, https://us-python.pkg.dev/colab-wheels/public/simple/\n",
            "Collecting pyspark\n",
            "  Downloading pyspark-3.3.1.tar.gz (281.4 MB)\n",
            "\u001b[K     |████████████████████████████████| 281.4 MB 51 kB/s \n",
            "\u001b[?25hCollecting py4j==0.10.9.5\n",
            "  Downloading py4j-0.10.9.5-py2.py3-none-any.whl (199 kB)\n",
            "\u001b[K     |████████████████████████████████| 199 kB 63.7 MB/s \n",
            "\u001b[?25hBuilding wheels for collected packages: pyspark\n",
            "  Building wheel for pyspark (setup.py) ... \u001b[?25l\u001b[?25hdone\n",
            "  Created wheel for pyspark: filename=pyspark-3.3.1-py2.py3-none-any.whl size=281845512 sha256=4493881b8be4e97a99afc2e4419863541c7b81e9b86bfa5d8a003230d94f5305\n",
            "  Stored in directory: /root/.cache/pip/wheels/42/59/f5/79a5bf931714dcd201b26025347785f087370a10a3329a899c\n",
            "Successfully built pyspark\n",
            "Installing collected packages: py4j, pyspark\n",
            "Successfully installed py4j-0.10.9.5 pyspark-3.3.1\n"
          ]
        }
      ]
    },
    {
      "cell_type": "markdown",
      "source": [
        "This dataset has 119391 rows and 32 columns."
      ],
      "metadata": {
        "id": "vWjYjQJey5mO"
      }
    },
    {
      "cell_type": "code",
      "execution_count": 7,
      "metadata": {
        "id": "QVlYw5HhKm5Y"
      },
      "outputs": [],
      "source": [
        "import warnings\n",
        "import matplotlib.pyplot as plt\n",
        "import seaborn as sns\n",
        "import pandas as pd\n",
        "\n",
        "import pyspark\n",
        "from pyspark.sql import functions as F\n",
        "from pyspark.sql import types\n",
        "\n",
        "from pyspark.ml.feature import Imputer, VectorAssembler, StringIndexer\n",
        "from pyspark.ml.regression import RandomForestRegressor, DecisionTreeRegressor, GBTRegressor, LinearRegression\n",
        "from pyspark.ml.evaluation import RegressionEvaluator\n",
        "from pyspark.ml.tuning import CrossValidator, ParamGridBuilder\n",
        "\n",
        "warnings.filterwarnings('ignore')"
      ]
    },
    {
      "cell_type": "markdown",
      "source": [
        "# Connect to the Spark server"
      ],
      "metadata": {
        "id": "OagEYtEev0my"
      }
    },
    {
      "cell_type": "code",
      "source": [
        "spark = pyspark.sql.SparkSession.builder.getOrCreate()"
      ],
      "metadata": {
        "id": "Co4ddd04OsO0"
      },
      "execution_count": 8,
      "outputs": []
    },
    {
      "cell_type": "markdown",
      "source": [
        "# Obtain the Data"
      ],
      "metadata": {
        "id": "kMhL5xnMv8JQ"
      }
    },
    {
      "cell_type": "code",
      "source": [
        "fullpath = 'hotel_bookings.csv'\n",
        "\n",
        "data = spark.read.csv(fullpath)"
      ],
      "metadata": {
        "id": "fFVX0h_VOtTO"
      },
      "execution_count": 9,
      "outputs": []
    },
    {
      "cell_type": "code",
      "source": [
        "data"
      ],
      "metadata": {
        "colab": {
          "base_uri": "https://localhost:8080/"
        },
        "id": "fNTqWISaOz-v",
        "outputId": "81518273-4cbc-4706-fbfc-13aca2bedefb"
      },
      "execution_count": 10,
      "outputs": [
        {
          "output_type": "execute_result",
          "data": {
            "text/plain": [
              "DataFrame[_c0: string, _c1: string, _c2: string, _c3: string, _c4: string, _c5: string, _c6: string, _c7: string, _c8: string, _c9: string, _c10: string, _c11: string, _c12: string, _c13: string, _c14: string, _c15: string, _c16: string, _c17: string, _c18: string, _c19: string, _c20: string, _c21: string, _c22: string, _c23: string, _c24: string, _c25: string, _c26: string, _c27: string, _c28: string, _c29: string, _c30: string, _c31: string]"
            ]
          },
          "metadata": {},
          "execution_count": 10
        }
      ]
    },
    {
      "cell_type": "code",
      "source": [
        "# read.csv is very similar to the Pandas version\n",
        "data = spark.read.csv(fullpath,\n",
        "                     sep=',',\n",
        "                     inferSchema=True,\n",
        "                     header=True,\n",
        "                     multiLine=True)\n",
        "\n",
        "data.printSchema()"
      ],
      "metadata": {
        "colab": {
          "base_uri": "https://localhost:8080/"
        },
        "id": "ruJ51aOHO6S1",
        "outputId": "2c587e67-0188-4cfe-bf2e-e483caefbc5e"
      },
      "execution_count": 11,
      "outputs": [
        {
          "output_type": "stream",
          "name": "stdout",
          "text": [
            "root\n",
            " |-- hotel: string (nullable = true)\n",
            " |-- is_canceled: integer (nullable = true)\n",
            " |-- lead_time: integer (nullable = true)\n",
            " |-- arrival_date_year: integer (nullable = true)\n",
            " |-- arrival_date_month: string (nullable = true)\n",
            " |-- arrival_date_week_number: integer (nullable = true)\n",
            " |-- arrival_date_day_of_month: integer (nullable = true)\n",
            " |-- stays_in_weekend_nights: integer (nullable = true)\n",
            " |-- stays_in_week_nights: integer (nullable = true)\n",
            " |-- adults: integer (nullable = true)\n",
            " |-- children: string (nullable = true)\n",
            " |-- babies: integer (nullable = true)\n",
            " |-- meal: string (nullable = true)\n",
            " |-- country: string (nullable = true)\n",
            " |-- market_segment: string (nullable = true)\n",
            " |-- distribution_channel: string (nullable = true)\n",
            " |-- is_repeated_guest: integer (nullable = true)\n",
            " |-- previous_cancellations: integer (nullable = true)\n",
            " |-- previous_bookings_not_canceled: integer (nullable = true)\n",
            " |-- reserved_room_type: string (nullable = true)\n",
            " |-- assigned_room_type: string (nullable = true)\n",
            " |-- booking_changes: integer (nullable = true)\n",
            " |-- deposit_type: string (nullable = true)\n",
            " |-- agent: string (nullable = true)\n",
            " |-- company: string (nullable = true)\n",
            " |-- days_in_waiting_list: integer (nullable = true)\n",
            " |-- customer_type: string (nullable = true)\n",
            " |-- adr: double (nullable = true)\n",
            " |-- required_car_parking_spaces: integer (nullable = true)\n",
            " |-- total_of_special_requests: integer (nullable = true)\n",
            " |-- reservation_status: string (nullable = true)\n",
            " |-- reservation_status_date: timestamp (nullable = true)\n",
            "\n"
          ]
        }
      ]
    },
    {
      "cell_type": "markdown",
      "source": [
        "# Data Cleaning"
      ],
      "metadata": {
        "id": "ana8qMjCxKOd"
      }
    },
    {
      "cell_type": "markdown",
      "source": [
        " drop unnecessary columns "
      ],
      "metadata": {
        "id": "PM3hguIExTH1"
      }
    },
    {
      "cell_type": "code",
      "source": [
        "# these columns are useless to us, drop them\n",
        "drop_cols = ['arrival_date_week_number', 'arrival_date_day_of_month', 'stays_in_weekend_nights', 'stays_in_week_nights']\n",
        "\n",
        "data = data.drop(*drop_cols)"
      ],
      "metadata": {
        "id": "8YyvX6ETO8X6"
      },
      "execution_count": 12,
      "outputs": []
    },
    {
      "cell_type": "code",
      "source": [
        "data = data.replace('other', None, subset=['company'])"
      ],
      "metadata": {
        "id": "colHk3TUP9Dz"
      },
      "execution_count": 13,
      "outputs": []
    },
    {
      "cell_type": "code",
      "source": [
        "data = data.replace('other', None, subset=['arrival_date_month'])"
      ],
      "metadata": {
        "id": "IjXTzpN6R-g_"
      },
      "execution_count": 21,
      "outputs": []
    },
    {
      "cell_type": "code",
      "source": [
        "data = data.replace('other', None, subset=['agent'])"
      ],
      "metadata": {
        "id": "todKe8aSTlO9"
      },
      "execution_count": null,
      "outputs": []
    },
    {
      "cell_type": "code",
      "source": [
        "data = data.replace('missing', None, subset=['customer_type'])"
      ],
      "metadata": {
        "id": "mdqcRhVBSITJ"
      },
      "execution_count": 15,
      "outputs": []
    },
    {
      "cell_type": "markdown",
      "source": [
        "# Descriptive Statistics"
      ],
      "metadata": {
        "id": "Bmw7GFSexfyM"
      }
    },
    {
      "cell_type": "code",
      "source": [
        "data.select('arrival_date_year', 'arrival_date_week_number','arrival_date_day_of_month').summary().show()"
      ],
      "metadata": {
        "colab": {
          "base_uri": "https://localhost:8080/"
        },
        "id": "Z_Zfn4mNTDHR",
        "outputId": "88e5b7e8-3754-4603-d4d5-63074af6bd20"
      },
      "execution_count": 23,
      "outputs": [
        {
          "output_type": "stream",
          "name": "stdout",
          "text": [
            "+-------+------------------+------------------------+-------------------------+\n",
            "|summary| arrival_date_year|arrival_date_week_number|arrival_date_day_of_month|\n",
            "+-------+------------------+------------------------+-------------------------+\n",
            "|  count|            119390|                  119390|                   119390|\n",
            "|   mean| 2016.156554150264|       27.16517296255968|       15.798241058715135|\n",
            "| stddev|0.7074759445234089|      13.605138355497662|        8.780829470578274|\n",
            "|    min|              2015|                       1|                        1|\n",
            "|    25%|              2016|                      16|                        8|\n",
            "|    50%|              2016|                      28|                       16|\n",
            "|    75%|              2017|                      38|                       23|\n",
            "|    max|              2017|                      53|                       31|\n",
            "+-------+------------------+------------------------+-------------------------+\n",
            "\n"
          ]
        }
      ]
    },
    {
      "cell_type": "markdown",
      "source": [
        "# Data Exploration"
      ],
      "metadata": {
        "id": "6nC8I2k_xkz-"
      }
    },
    {
      "cell_type": "code",
      "source": [
        "data.registerTempTable('data')\n",
        "\n",
        "state_counts = spark.sql(r\"\"\"SELECT arrival_date_month, COUNT(arrival_date_month) AS total \n",
        "                                     FROM data \n",
        "                                     GROUP BY arrival_date_month \n",
        "                                     ORDER BY total desc \"\"\")\n",
        "state_counts.show()"
      ],
      "metadata": {
        "colab": {
          "base_uri": "https://localhost:8080/"
        },
        "id": "bqHSKJUTXOZm",
        "outputId": "1896ef25-ce33-432e-9e75-c3b520d73427"
      },
      "execution_count": 24,
      "outputs": [
        {
          "output_type": "stream",
          "name": "stdout",
          "text": [
            "+------------------+-----+\n",
            "|arrival_date_month|total|\n",
            "+------------------+-----+\n",
            "|            August|13877|\n",
            "|              July|12661|\n",
            "|               May|11791|\n",
            "|           October|11160|\n",
            "|             April|11089|\n",
            "|              June|10939|\n",
            "|         September|10508|\n",
            "|             March| 9794|\n",
            "|          February| 8068|\n",
            "|          November| 6794|\n",
            "|          December| 6780|\n",
            "|           January| 5929|\n",
            "+------------------+-----+\n",
            "\n"
          ]
        }
      ]
    },
    {
      "cell_type": "code",
      "source": [
        "mfr_counts = spark.sql(r\"\"\"SELECT meal, COUNT(meal) as total\n",
        "                                  FROM data\n",
        "                                  GROUP BY meal\n",
        "                                  ORDER BY total desc\"\"\")\n",
        "\n",
        "mfr_counts.show()"
      ],
      "metadata": {
        "colab": {
          "base_uri": "https://localhost:8080/"
        },
        "id": "I7NeGbO5ZGHX",
        "outputId": "be9a7243-25e9-4bf6-f270-2c026186c7ab"
      },
      "execution_count": 25,
      "outputs": [
        {
          "output_type": "stream",
          "name": "stdout",
          "text": [
            "+---------+-----+\n",
            "|     meal|total|\n",
            "+---------+-----+\n",
            "|       BB|92310|\n",
            "|       HB|14463|\n",
            "|       SC|10650|\n",
            "|Undefined| 1169|\n",
            "|       FB|  798|\n",
            "+---------+-----+\n",
            "\n"
          ]
        }
      ]
    },
    {
      "cell_type": "markdown",
      "source": [
        "### Histogram"
      ],
      "metadata": {
        "id": "_fs58gYfxslB"
      }
    },
    {
      "cell_type": "code",
      "source": [
        "\n",
        "df_result = spark.sql('SELECT meal, arrival_date_month FROM data WHERE meal IN (\"BB\", \"HB\", \"SC\")')\n",
        "df_result = df_result.toPandas()"
      ],
      "metadata": {
        "id": "rnX1D3KzZZyP"
      },
      "execution_count": 26,
      "outputs": []
    },
    {
      "cell_type": "code",
      "source": [
        "sns.set_context(\"notebook\", font_scale=1.25)\n",
        "sns.histplot(data=df_result, x='arrival_date_month', hue='meal', binwidth=0.3)\n",
        "sns.set(rc={'figure.figsize':(30.7,20.27)})"
      ],
      "metadata": {
        "colab": {
          "base_uri": "https://localhost:8080/",
          "height": 1000
        },
        "id": "NQYlfympZwfT",
        "outputId": "01902caa-d09d-4c55-eb7b-48c59a0573c8"
      },
      "execution_count": 32,
      "outputs": [
        {
          "output_type": "display_data",
          "data": {
            "text/plain": [
              "<Figure size 1490.4x1459.44 with 1 Axes>"
            ],
            "image/png": "[encoded data removed]"
          },
          "metadata": {}
        }
      ]
    },
    {
      "cell_type": "markdown",
      "source": [
        "# Scatter Plot"
      ],
      "metadata": {
        "id": "ViAk2_Dxxzgn"
      }
    },
    {
      "cell_type": "code",
      "source": [
        "df_result = spark.sql('SELECT customer_type, adults, is_canceled FROM data')\n",
        "df_result = df_result.toPandas()\n",
        "ax = sns.scatterplot(data=df_result, x='adults', y='is_canceled', hue='customer_type', s=8)\n",
        "sns.move_legend(ax, \"upper left\", bbox_to_anchor=(1, 1))\n",
        "sns.set(rc={'figure.figsize':(2,3)})"
      ],
      "metadata": {
        "colab": {
          "base_uri": "https://localhost:8080/",
          "height": 339
        },
        "id": "rS74lBwldzhw",
        "outputId": "8fa7d080-b22a-4955-c0a4-39f18367f1e1"
      },
      "execution_count": 38,
      "outputs": [
        {
          "output_type": "display_data",
          "data": {
            "text/plain": [
              "<Figure size 360x360 with 1 Axes>"
            ],
            "image/png": "[encoded data removed]"
          },
          "metadata": {}
        }
      ]
    },
    {
      "cell_type": "markdown",
      "source": [
        "# Pie Chart"
      ],
      "metadata": {
        "id": "_TZ1QoHWx4BF"
      }
    },
    {
      "cell_type": "code",
      "source": [
        "df_result = spark.sql('SELECT customer_type FROM data')\n",
        "df_result = df_result.toPandas()\n",
        "df_result_c = df_result['customer_type'].value_counts().nlargest(4)\n",
        "colors = sns.color_palette('deep')\n",
        "sns.set(rc={'figure.figsize':(10,10)})\n",
        "plt.pie(df_result_c.values, labels=df_result_c.index, colors=colors, autopct='%.0f%%', textprops={'fontsize': 14})\n",
        "plt.show()"
      ],
      "metadata": {
        "colab": {
          "base_uri": "https://localhost:8080/",
          "height": 575
        },
        "id": "JEolZc3Nfs93",
        "outputId": "c633216e-f734-4b7c-85cc-4a8e0f9a050c"
      },
      "execution_count": 42,
      "outputs": [
        {
          "output_type": "display_data",
          "data": {
            "text/plain": [
              "<Figure size 720x720 with 1 Axes>"
            ],
            "image/png": "[encoded data removed]"
          },
          "metadata": {}
        }
      ]
    },
    {
      "cell_type": "markdown",
      "source": [
        "### Pairplot\n"
      ],
      "metadata": {
        "id": "TeAU9t7rx65t"
      }
    },
    {
      "cell_type": "code",
      "source": [
        "df_result = spark.sql('SELECT customer_type, adults, arrival_date_month, is_canceled FROM data')\n",
        "df_result = df_result.toPandas()\n",
        "sns.pairplot(df_result, kind='reg', hue='customer_type', corner=True, size=5)"
      ],
      "metadata": {
        "colab": {
          "base_uri": "https://localhost:8080/",
          "height": 741
        },
        "id": "HXkucrHsmZOc",
        "outputId": "0bb5d2a0-d00e-463e-8bd3-9d99d68180be"
      },
      "execution_count": 44,
      "outputs": [
        {
          "output_type": "execute_result",
          "data": {
            "text/plain": [
              "<seaborn.axisgrid.PairGrid at 0x7f9bb1cdc550>"
            ]
          },
          "metadata": {},
          "execution_count": 44
        },
        {
          "output_type": "display_data",
          "data": {
            "text/plain": [
              "<Figure size 842.6x720 with 5 Axes>"
            ],
            "image/png": "[encoded data removed]"
          },
          "metadata": {}
        }
      ]
    },
    {
      "cell_type": "markdown",
      "source": [
        "## Data Preparation for ML"
      ],
      "metadata": {
        "id": "RBS63pg5yEKr"
      }
    },
    {
      "cell_type": "markdown",
      "source": [
        "# Category Dropping"
      ],
      "metadata": {
        "id": "vpOKqeZwyG5D"
      }
    },
    {
      "cell_type": "code",
      "source": [
        "cat_cols = ['hotel', 'arrival_date_month', 'children', 'meal', \\\n",
        "            'country', 'market_segment', 'distribution_channel', 'reserved_room_type',\\\n",
        "           'assigned_room_type', 'deposit_type', 'agent', 'company', 'customer_type', 'reservation_status']\n",
        "\n",
        "n = 32\n",
        "\n",
        "for col in cat_cols:\n",
        "    most_freq = data.groupBy(col).count().orderBy('count', ascending=False).take(n - 1)\n",
        "    most_freq = spark.createDataFrame(most_freq).toPandas()\n",
        "    most_freq = most_freq[col].tolist()\n",
        "\n",
        "    data = data.withColumn(col, F.when(F.col(col).isin(most_freq), F.col(col)))"
      ],
      "metadata": {
        "id": "hdNIYQPlmz90"
      },
      "execution_count": 47,
      "outputs": []
    },
    {
      "cell_type": "markdown",
      "source": [
        "### Imputation\n"
      ],
      "metadata": {
        "id": "gsBCxbzuyLSg"
      }
    },
    {
      "cell_type": "code",
      "source": [
        "num_cols = ['is_canceled', 'lead_time', 'arrival_date_year', 'babies', 'is_repeated_guest', 'booking_changes']\n",
        "\n",
        "imputer = Imputer(inputCols=num_cols, outputCols=num_cols, strategy='mean')\n",
        "model = imputer.fit(data)\n",
        "data = model.transform(data)"
      ],
      "metadata": {
        "id": "UUHvZORYnxC8"
      },
      "execution_count": 48,
      "outputs": []
    },
    {
      "cell_type": "code",
      "source": [
        "data = data.fillna('unknown', subset=cat_cols)"
      ],
      "metadata": {
        "id": "bfJs43sYpARE"
      },
      "execution_count": 49,
      "outputs": []
    },
    {
      "cell_type": "code",
      "source": [
        "for col in cat_cols:\n",
        "    indexer = StringIndexer(inputCol=col, outputCol=col+'_idx')\n",
        "    data = indexer.fit(data).transform(data)\n",
        "    \n",
        "data = data.drop(*cat_cols)"
      ],
      "metadata": {
        "id": "28E17IqCpC1A"
      },
      "execution_count": 50,
      "outputs": []
    },
    {
      "cell_type": "markdown",
      "source": [
        "# Combining Feature Columns"
      ],
      "metadata": {
        "id": "RpA1DAr8yOw3"
      }
    },
    {
      "cell_type": "markdown",
      "source": [
        "**Value indicating if the booking was canceled (1) or not (0)**\n"
      ],
      "metadata": {
        "id": "l3gapID2zbZ7"
      }
    },
    {
      "cell_type": "code",
      "source": [
        "cols = data.columns\n",
        "cols.remove('is_canceled') #remove is_canceled -> we need this to be our label\n",
        "cols.remove('reservation_status_date') #remove \n",
        "\n",
        "assembler = VectorAssembler(inputCols=cols, outputCol='features')\n",
        "\n",
        "data = assembler.transform(data)"
      ],
      "metadata": {
        "id": "K6c-Bz5DpFYk"
      },
      "execution_count": 53,
      "outputs": []
    },
    {
      "cell_type": "markdown",
      "source": [
        "# Set columns and Split"
      ],
      "metadata": {
        "id": "hvcU1kzQyVca"
      }
    },
    {
      "cell_type": "code",
      "source": [
        "# We have created a new dataframe only consisting of the features column and the label column (actually price column but renamed)\n",
        "df_data = data.select(F.col('features'), F.col('is_canceled').alias('label'))\n",
        "\n",
        "df_train, df_test = df_data.randomSplit([0.8, 0.2])"
      ],
      "metadata": {
        "id": "RTMPKg3lrfov"
      },
      "execution_count": 54,
      "outputs": []
    },
    {
      "cell_type": "markdown",
      "source": [
        "# Model Building"
      ],
      "metadata": {
        "id": "6VA6G9scyYNN"
      }
    },
    {
      "cell_type": "code",
      "source": [
        "evaluator = RegressionEvaluator() # Can specify what metrics we want to use. Default metric is Root Mean Squared Error (RMSE)\n",
        "grid = ParamGridBuilder().build()"
      ],
      "metadata": {
        "id": "pc9yBLuZtcz2"
      },
      "execution_count": 55,
      "outputs": []
    },
    {
      "cell_type": "markdown",
      "source": [
        "# Initialize Regressors and Train"
      ],
      "metadata": {
        "id": "nFUIFyBmygWr"
      }
    },
    {
      "cell_type": "code",
      "source": [
        "#Random Forest Regressor\n",
        "classifier_rf = RandomForestRegressor(featuresCol='features', labelCol='label')\n",
        "cv_rf = CrossValidator(estimator=classifier_rf, evaluator=evaluator, estimatorParamMaps=grid, numFolds=5)\n",
        "cv_model_rf = cv_rf.fit(df_train)"
      ],
      "metadata": {
        "id": "3T9Pb3gPtdqM"
      },
      "execution_count": 56,
      "outputs": []
    },
    {
      "cell_type": "code",
      "source": [
        "#Gradient Boosted Tree Regressor\n",
        "classifier_gbt = GBTRegressor(featuresCol=\"features\", labelCol='label', maxIter=10)\n",
        "cv_gbt = CrossValidator(estimator=classifier_gbt, evaluator=evaluator, estimatorParamMaps=grid, numFolds=5)\n",
        "cv_model_gbt = cv_gbt.fit(df_train)"
      ],
      "metadata": {
        "id": "v1P6Iq9xtihL"
      },
      "execution_count": 57,
      "outputs": []
    },
    {
      "cell_type": "code",
      "source": [
        "#Linear Regression\n",
        "classifier_lr = LinearRegression(maxIter=10, regParam=0.3, elasticNetParam=0.8)\n",
        "cv_lr = CrossValidator(estimator=classifier_lr, evaluator=evaluator, estimatorParamMaps=grid, numFolds=5)\n",
        "cv_model_lr = cv_lr.fit(df_train)"
      ],
      "metadata": {
        "id": "x-elTH9xt5lq"
      },
      "execution_count": 58,
      "outputs": []
    },
    {
      "cell_type": "markdown",
      "source": [
        "### Evaluation\n"
      ],
      "metadata": {
        "id": "UOISpeE1ykJm"
      }
    },
    {
      "cell_type": "code",
      "source": [
        "metrics = []\n",
        "models = [cv_model_rf, cv_model_gbt, cv_model_lr]\n",
        "\n",
        "for model in models:\n",
        "    metrics.append(model.avgMetrics)\n",
        "print (metrics)\n",
        "\n",
        "for idx, model in enumerate(models): \n",
        "    metrics[idx].append(RegressionEvaluator(predictionCol='prediction', labelCol='label', metricName='r2').evaluate(model.bestModel.transform(df_test)))\n",
        "    metrics[idx].append(RegressionEvaluator(predictionCol='prediction', labelCol='label', metricName='rmse').evaluate(model.bestModel.transform(df_test)))\n",
        "    metrics[idx].append(RegressionEvaluator(predictionCol='prediction', labelCol='label', metricName='mae').evaluate(model.bestModel.transform(df_test)))\n",
        "\n",
        "df = pd.DataFrame(metrics, index = ['Random Forest Regressor', 'Gradient Boosted Tree Regressor',  'Linear Regression'], columns=['Average Metrics (CV)', 'Best Model R2 on Test Set', 'Best Model RMSE on Test Set', 'Best Model MAE on Test Set'])\n",
        "\n",
        "df"
      ],
      "metadata": {
        "colab": {
          "base_uri": "https://localhost:8080/",
          "height": 161
        },
        "id": "-ReKDQyIuQQI",
        "outputId": "5f35d22d-afef-4330-c943-550193451f1b"
      },
      "execution_count": 60,
      "outputs": [
        {
          "output_type": "stream",
          "name": "stdout",
          "text": [
            "[[0.05483103626995002], [0.0], [0.2825308120300285]]\n"
          ]
        },
        {
          "output_type": "execute_result",
          "data": {
            "text/plain": [
              "                                 Average Metrics (CV)  \\\n",
              "Random Forest Regressor                      0.054831   \n",
              "Gradient Boosted Tree Regressor              0.000000   \n",
              "Linear Regression                            0.282531   \n",
              "\n",
              "                                 Best Model R2 on Test Set  \\\n",
              "Random Forest Regressor                           0.986977   \n",
              "Gradient Boosted Tree Regressor                   1.000000   \n",
              "Linear Regression                                 0.656820   \n",
              "\n",
              "                                 Best Model RMSE on Test Set  \\\n",
              "Random Forest Regressor                              0.05513   \n",
              "Gradient Boosted Tree Regressor                      0.00000   \n",
              "Linear Regression                                    0.28301   \n",
              "\n",
              "                                 Best Model MAE on Test Set  \n",
              "Random Forest Regressor                            0.039891  \n",
              "Gradient Boosted Tree Regressor                    0.000000  \n",
              "Linear Regression                                  0.271241  "
            ],
            "text/html": [
              "\n",
              "  <div id=\"df-8a8bfa6a-7d40-466d-b513-070c0a0888e6\">\n",
              "    <div class=\"colab-df-container\">\n",
              "      <div>\n",
              "<style scoped>\n",
              "    .dataframe tbody tr th:only-of-type {\n",
              "        vertical-align: middle;\n",
              "    }\n",
              "\n",
              "    .dataframe tbody tr th {\n",
              "        vertical-align: top;\n",
              "    }\n",
              "\n",
              "    .dataframe thead th {\n",
              "        text-align: right;\n",
              "    }\n",
              "</style>\n",
              "<table border=\"1\" class=\"dataframe\">\n",
              "  <thead>\n",
              "    <tr style=\"text-align: right;\">\n",
              "      <th></th>\n",
              "      <th>Average Metrics (CV)</th>\n",
              "      <th>Best Model R2 on Test Set</th>\n",
              "      <th>Best Model RMSE on Test Set</th>\n",
              "      <th>Best Model MAE on Test Set</th>\n",
              "    </tr>\n",
              "  </thead>\n",
              "  <tbody>\n",
              "    <tr>\n",
              "      <th>Random Forest Regressor</th>\n",
              "      <td>0.054831</td>\n",
              "      <td>0.986977</td>\n",
              "      <td>0.05513</td>\n",
              "      <td>0.039891</td>\n",
              "    </tr>\n",
              "    <tr>\n",
              "      <th>Gradient Boosted Tree Regressor</th>\n",
              "      <td>0.000000</td>\n",
              "      <td>1.000000</td>\n",
              "      <td>0.00000</td>\n",
              "      <td>0.000000</td>\n",
              "    </tr>\n",
              "    <tr>\n",
              "      <th>Linear Regression</th>\n",
              "      <td>0.282531</td>\n",
              "      <td>0.656820</td>\n",
              "      <td>0.28301</td>\n",
              "      <td>0.271241</td>\n",
              "    </tr>\n",
              "  </tbody>\n",
              "</table>\n",
              "</div>\n",
              "      <button class=\"colab-df-convert\" onclick=\"convertToInteractive('df-8a8bfa6a-7d40-466d-b513-070c0a0888e6')\"\n",
              "              title=\"Convert this dataframe to an interactive table.\"\n",
              "              style=\"display:none;\">\n",
              "        \n",
              "  <svg xmlns=\"http://www.w3.org/2000/svg\" height=\"24px\"viewBox=\"0 0 24 24\"\n",
              "       width=\"24px\">\n",
              "    <path d=\"M0 0h24v24H0V0z\" fill=\"none\"/>\n",
              "    <path d=\"M18.56 5.44l.94 2.06.94-2.06 2.06-.94-2.06-.94-.94-2.06-.94 2.06-2.06.94zm-11 1L8.5 8.5l.94-2.06 2.06-.94-2.06-.94L8.5 2.5l-.94 2.06-2.06.94zm10 10l.94 2.06.94-2.06 2.06-.94-2.06-.94-.94-2.06-.94 2.06-2.06.94z\"/><path d=\"M17.41 7.96l-1.37-1.37c-.4-.4-.92-.59-1.43-.59-.52 0-1.04.2-1.43.59L10.3 9.45l-7.72 7.72c-.78.78-.78 2.05 0 2.83L4 21.41c.39.39.9.59 1.41.59.51 0 1.02-.2 1.41-.59l7.78-7.78 2.81-2.81c.8-.78.8-2.07 0-2.86zM5.41 20L4 18.59l7.72-7.72 1.47 1.35L5.41 20z\"/>\n",
              "  </svg>\n",
              "      </button>\n",
              "      \n",
              "  <style>\n",
              "    .colab-df-container {\n",
              "      display:flex;\n",
              "      flex-wrap:wrap;\n",
              "      gap: 12px;\n",
              "    }\n",
              "\n",
              "    .colab-df-convert {\n",
              "      background-color: #E8F0FE;\n",
              "      border: none;\n",
              "      border-radius: 50%;\n",
              "      cursor: pointer;\n",
              "      display: none;\n",
              "      fill: #1967D2;\n",
              "      height: 32px;\n",
              "      padding: 0 0 0 0;\n",
              "      width: 32px;\n",
              "    }\n",
              "\n",
              "    .colab-df-convert:hover {\n",
              "      background-color: #E2EBFA;\n",
              "      box-shadow: 0px 1px 2px rgba(60, 64, 67, 0.3), 0px 1px 3px 1px rgba(60, 64, 67, 0.15);\n",
              "      fill: #174EA6;\n",
              "    }\n",
              "\n",
              "    [theme=dark] .colab-df-convert {\n",
              "      background-color: #3B4455;\n",
              "      fill: #D2E3FC;\n",
              "    }\n",
              "\n",
              "    [theme=dark] .colab-df-convert:hover {\n",
              "      background-color: #434B5C;\n",
              "      box-shadow: 0px 1px 3px 1px rgba(0, 0, 0, 0.15);\n",
              "      filter: drop-shadow(0px 1px 2px rgba(0, 0, 0, 0.3));\n",
              "      fill: #FFFFFF;\n",
              "    }\n",
              "  </style>\n",
              "\n",
              "      <script>\n",
              "        const buttonEl =\n",
              "          document.querySelector('#df-8a8bfa6a-7d40-466d-b513-070c0a0888e6 button.colab-df-convert');\n",
              "        buttonEl.style.display =\n",
              "          google.colab.kernel.accessAllowed ? 'block' : 'none';\n",
              "\n",
              "        async function convertToInteractive(key) {\n",
              "          const element = document.querySelector('#df-8a8bfa6a-7d40-466d-b513-070c0a0888e6');\n",
              "          const dataTable =\n",
              "            await google.colab.kernel.invokeFunction('convertToInteractive',\n",
              "                                                     [key], {});\n",
              "          if (!dataTable) return;\n",
              "\n",
              "          const docLinkHtml = 'Like what you see? Visit the ' +\n",
              "            '<a target=\"_blank\" href=https://colab.research.google.com/notebooks/data_table.ipynb>data table notebook</a>'\n",
              "            + ' to learn more about interactive tables.';\n",
              "          element.innerHTML = '';\n",
              "          dataTable['output_type'] = 'display_data';\n",
              "          await google.colab.output.renderOutput(dataTable, element);\n",
              "          const docLink = document.createElement('div');\n",
              "          docLink.innerHTML = docLinkHtml;\n",
              "          element.appendChild(docLink);\n",
              "        }\n",
              "      </script>\n",
              "    </div>\n",
              "  </div>\n",
              "  "
            ]
          },
          "metadata": {},
          "execution_count": 60
        }
      ]
    },
    {
      "cell_type": "code",
      "source": [],
      "metadata": {
        "id": "RPIbx4C7uXLN"
      },
      "execution_count": null,
      "outputs": []
    }
  ]
}